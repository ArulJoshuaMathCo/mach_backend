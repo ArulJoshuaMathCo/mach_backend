{
 "cells": [
  {
   "cell_type": "code",
   "execution_count": 8,
   "metadata": {},
   "outputs": [
    {
     "name": "stdout",
     "output_type": "stream",
     "text": [
      "             name                     designation     account     mathco_lead  \\\n",
      "0  MathCo EMP - 1    Analyst - Talent Acquisition         NaN             NaN   \n",
      "1  MathCo EMP - 2  Associate - Talent Acquisition         NaN             NaN   \n",
      "2  MathCo EMP - 3  Associate - Talent Acquisition         NaN             NaN   \n",
      "3  MathCo EMP - 4                Senior Associate  Stellantis  Neethu Vincent   \n",
      "4  MathCo EMP - 5                       Associate        Mars  Himanshu Misra   \n",
      "\n",
      "      manager_name             partner    status location   ecosystem_lead  \\\n",
      "0  Nabhan Musthafa                 NaN  Inactive    India              NaN   \n",
      "1  Nabhan Musthafa                 NaN  Inactive    India              NaN   \n",
      "2  Nabhan Musthafa                 NaN  Inactive    India              NaN   \n",
      "3      Anant Chari  Vamsi Kiran Badugu    Notice    India  Himanshu Mishra   \n",
      "4   Rakesh Devanga  Vamsi Kiran Badugu    Active    India  Himanshu Mishra   \n",
      "\n",
      "  latest  ... Innovative Thinking Curiosity & Learning Agility  \\\n",
      "0    yes  ...                 NaN                          NaN   \n",
      "1    yes  ...                 NaN                          NaN   \n",
      "2    yes  ...                 NaN                          NaN   \n",
      "3    yes  ...                 NaN                          NaN   \n",
      "4    yes  ...                 NaN                          NaN   \n",
      "\n",
      "  Problem Solving Result Orientation Quality Focus Effective Communication  \\\n",
      "0             NaN                NaN           NaN                     NaN   \n",
      "1             NaN                NaN           NaN                     NaN   \n",
      "2             NaN                NaN           NaN                     NaN   \n",
      "3             NaN                NaN           NaN                     NaN   \n",
      "4             NaN                NaN           NaN                     NaN   \n",
      "\n",
      "  Work Management and effectiveness ClientCentric GenAI NucliOS  \n",
      "0                               NaN           NaN   NaN     NaN  \n",
      "1                               NaN           NaN   NaN     NaN  \n",
      "2                               NaN           NaN   NaN     NaN  \n",
      "3                               NaN           NaN   NaN     NaN  \n",
      "4                               NaN           NaN   NaN     NaN  \n",
      "\n",
      "[5 rows x 243 columns]\n"
     ]
    },
    {
     "name": "stderr",
     "output_type": "stream",
     "text": [
      "/tmp/ipykernel_2329/4199961013.py:2: DtypeWarning: Columns (9,10,11,12,13,14,15,16,17,18,19,20,21,22,23,24,25,26,27,28,29,30,31,32,33,34,35,36,37,38,39,40,41,42,43,44,45,46,47,48,49,50,51,52,53,54,55,56,57,58,59,60,61,62,63,64,65,66,67,68,69,70,71,72,73,74,75,76,77,78,79,80,81,82,83,84,85,86,87,88,89,90,91,92,93,94,95,96,97,98,99,100,101,102,103,104,105,106,107,108,109,110,111,112,113,114,115,116,117,118,119,120,121,122,123,124,125,126,127,128,129,130,131,132,133,134,135,136,137,138,139,140,141,142,143,144,145,146,147,148,149,150,152,153,154,155,156,157,158,159,160,161,162,163,164,165,166,167,168,169,170,171,172,173,174,175,176,177,178,179,180,181,182,183,184,185,186,187,188,189,190,191,192,193,194,195,196,197,198,199,200,201,202,203,204,205,206,207,208,209,210,211,212,213,214,215,216,217,218,219,220,221,222,223,228,241,242) have mixed types. Specify dtype option on import or set low_memory=False.\n",
      "  df = pd.read_csv(\"data.csv\")\n"
     ]
    }
   ],
   "source": [
    "import pandas as pd\n",
    "df = pd.read_csv(\"data.csv\")\n",
    "print(df.head(5))"
   ]
  },
  {
   "cell_type": "code",
   "execution_count": 7,
   "metadata": {},
   "outputs": [
    {
     "name": "stdout",
     "output_type": "stream",
     "text": [
      "                   name                     designation     account  \\\n",
      "0        MathCo EMP - 1    Analyst - Talent Acquisition         NaN   \n",
      "1        MathCo EMP - 2  Associate - Talent Acquisition         NaN   \n",
      "2        MathCo EMP - 3  Associate - Talent Acquisition         NaN   \n",
      "3        MathCo EMP - 4                Senior Associate  Stellantis   \n",
      "4        MathCo EMP - 5                       Associate        Mars   \n",
      "...                 ...                             ...         ...   \n",
      "4277  MathCo EMP - 4278         Associate - Solutioning         NaN   \n",
      "4278  MathCo EMP - 4279                  Associate - IT         NaN   \n",
      "4279  MathCo EMP - 4280             Associate Principal         GAP   \n",
      "4280  MathCo EMP - 4281           Associate - Marketing         NaN   \n",
      "4281  MathCo EMP - 4282                Analyst - Design         NaN   \n",
      "\n",
      "         mathco_lead     manager_name             partner    status  \\\n",
      "0                NaN  Nabhan Musthafa                 NaN  Inactive   \n",
      "1                NaN  Nabhan Musthafa                 NaN  Inactive   \n",
      "2                NaN  Nabhan Musthafa                 NaN  Inactive   \n",
      "3     Neethu Vincent      Anant Chari  Vamsi Kiran Badugu    Notice   \n",
      "4     Himanshu Misra   Rakesh Devanga  Vamsi Kiran Badugu    Active   \n",
      "...              ...              ...                 ...       ...   \n",
      "4277             NaN   Sanchit Mathur                 NaN  Inactive   \n",
      "4278             NaN      Sabbarish S                 NaN  Inactive   \n",
      "4279    Vamsi Badugu     Nabeel Ahmed  Vamsi Kiran Badugu    Active   \n",
      "4280             NaN              NaN                 NaN  Inactive   \n",
      "4281             NaN              NaN                 NaN  Inactive   \n",
      "\n",
      "           location   ecosystem_lead latest  ... Innovative Thinking  \\\n",
      "0             India              NaN    yes  ...                 NaN   \n",
      "1             India              NaN    yes  ...                 NaN   \n",
      "2             India              NaN    yes  ...                 NaN   \n",
      "3             India  Himanshu Mishra    yes  ...                 NaN   \n",
      "4             India  Himanshu Mishra    yes  ...                 NaN   \n",
      "...             ...              ...    ...  ...                 ...   \n",
      "4277          India              NaN    NaN  ...                 NaN   \n",
      "4278          India              NaN    NaN  ...                 NaN   \n",
      "4279  United States     Aditya Durai    NaN  ...                 NaN   \n",
      "4280            NaN              NaN    NaN  ...                 NaN   \n",
      "4281            NaN              NaN    NaN  ...                 NaN   \n",
      "\n",
      "     Curiosity & Learning Agility Problem Solving Result Orientation  \\\n",
      "0                             NaN             NaN                NaN   \n",
      "1                             NaN             NaN                NaN   \n",
      "2                             NaN             NaN                NaN   \n",
      "3                             NaN             NaN                NaN   \n",
      "4                             NaN             NaN                NaN   \n",
      "...                           ...             ...                ...   \n",
      "4277                          NaN             NaN                NaN   \n",
      "4278                          NaN             NaN                NaN   \n",
      "4279                          NaN             NaN                NaN   \n",
      "4280                          NaN             NaN                NaN   \n",
      "4281                          NaN             NaN                NaN   \n",
      "\n",
      "     Quality Focus Effective Communication Work Management and effectiveness  \\\n",
      "0              NaN                     NaN                               NaN   \n",
      "1              NaN                     NaN                               NaN   \n",
      "2              NaN                     NaN                               NaN   \n",
      "3              NaN                     NaN                               NaN   \n",
      "4              NaN                     NaN                               NaN   \n",
      "...            ...                     ...                               ...   \n",
      "4277           NaN                     NaN                               NaN   \n",
      "4278           NaN                     NaN                               NaN   \n",
      "4279           NaN                     NaN                               NaN   \n",
      "4280           NaN                     NaN                               NaN   \n",
      "4281           NaN                     NaN                               NaN   \n",
      "\n",
      "     ClientCentric GenAI NucliOS  \n",
      "0              NaN   NaN     NaN  \n",
      "1              NaN   NaN     NaN  \n",
      "2              NaN   NaN     NaN  \n",
      "3              NaN   NaN     NaN  \n",
      "4              NaN   NaN     NaN  \n",
      "...            ...   ...     ...  \n",
      "4277           NaN   NaN     NaN  \n",
      "4278           NaN   NaN     NaN  \n",
      "4279           NaN   NaN     NaN  \n",
      "4280           NaN   NaN     NaN  \n",
      "4281           NaN   NaN     NaN  \n",
      "\n",
      "[4282 rows x 243 columns]\n"
     ]
    }
   ],
   "source": [
    "df1=pd.DataFrame(df)\n",
    "print(df1)"
   ]
  },
  {
   "cell_type": "code",
   "execution_count": 17,
   "metadata": {},
   "outputs": [
    {
     "name": "stdout",
     "output_type": "stream",
     "text": [
      "       Python      SQL    Excel Storyboarding Business Communication  \\\n",
      "0      Expert   Expert      NaN           NaN                    NaN   \n",
      "1      Expert   Expert      NaN           NaN                    NaN   \n",
      "2      Expert   Expert      NaN           NaN                    NaN   \n",
      "3      Expert   Expert  Advance        Expert                Advance   \n",
      "4     Advance  Advance  Advance       Advance                Advance   \n",
      "...       ...      ...      ...           ...                    ...   \n",
      "4277      NaN      NaN      NaN           NaN                    NaN   \n",
      "4278      NaN      NaN      NaN           NaN                    NaN   \n",
      "4279      NaN      NaN      NaN           NaN                    NaN   \n",
      "4280      NaN      NaN      NaN           NaN                    NaN   \n",
      "4281      NaN      NaN      NaN           NaN                    NaN   \n",
      "\n",
      "       Deck Making    R      Java Javascript Shell scripting  ...  \\\n",
      "0              NaN  NaN       NaN        NaN             NaN  ...   \n",
      "1              NaN  NaN       NaN        NaN             NaN  ...   \n",
      "2              NaN  NaN       NaN        NaN             NaN  ...   \n",
      "3          Advance  NaN  Beginner    Advance         Advance  ...   \n",
      "4     Intermediate  NaN  Beginner   Beginner        Beginner  ...   \n",
      "...            ...  ...       ...        ...             ...  ...   \n",
      "4277           NaN  NaN       NaN        NaN             NaN  ...   \n",
      "4278           NaN  NaN       NaN        NaN             NaN  ...   \n",
      "4279           NaN  NaN       NaN        NaN             NaN  ...   \n",
      "4280           NaN  NaN       NaN        NaN             NaN  ...   \n",
      "4281           NaN  NaN       NaN        NaN             NaN  ...   \n",
      "\n",
      "     Innovative Thinking Curiosity & Learning Agility Problem Solving  \\\n",
      "0                    NaN                          NaN             NaN   \n",
      "1                    NaN                          NaN             NaN   \n",
      "2                    NaN                          NaN             NaN   \n",
      "3                    NaN                          NaN             NaN   \n",
      "4                    NaN                          NaN             NaN   \n",
      "...                  ...                          ...             ...   \n",
      "4277                 NaN                          NaN             NaN   \n",
      "4278                 NaN                          NaN             NaN   \n",
      "4279                 NaN                          NaN             NaN   \n",
      "4280                 NaN                          NaN             NaN   \n",
      "4281                 NaN                          NaN             NaN   \n",
      "\n",
      "     Result Orientation Quality Focus Effective Communication  \\\n",
      "0                   NaN           NaN                     NaN   \n",
      "1                   NaN           NaN                     NaN   \n",
      "2                   NaN           NaN                     NaN   \n",
      "3                   NaN           NaN                     NaN   \n",
      "4                   NaN           NaN                     NaN   \n",
      "...                 ...           ...                     ...   \n",
      "4277                NaN           NaN                     NaN   \n",
      "4278                NaN           NaN                     NaN   \n",
      "4279                NaN           NaN                     NaN   \n",
      "4280                NaN           NaN                     NaN   \n",
      "4281                NaN           NaN                     NaN   \n",
      "\n",
      "     Work Management and effectiveness ClientCentric GenAI NucliOS  \n",
      "0                                  NaN           NaN   NaN     NaN  \n",
      "1                                  NaN           NaN   NaN     NaN  \n",
      "2                                  NaN           NaN   NaN     NaN  \n",
      "3                                  NaN           NaN   NaN     NaN  \n",
      "4                                  NaN           NaN   NaN     NaN  \n",
      "...                                ...           ...   ...     ...  \n",
      "4277                               NaN           NaN   NaN     NaN  \n",
      "4278                               NaN           NaN   NaN     NaN  \n",
      "4279                               NaN           NaN   NaN     NaN  \n",
      "4280                               NaN           NaN   NaN     NaN  \n",
      "4281                               NaN           NaN   NaN     NaN  \n",
      "\n",
      "[4282 rows x 230 columns]\n"
     ]
    }
   ],
   "source": [
    "users = df1[[\"name\", \"designation\", \"account\", \"mathco_lead\", \"manager_name\"]]\n",
    "skills = df1[[\"Python\",\"SQL\",\"Excel\",\"Storyboarding\",\"Business Communication\",\"Deck Making\",\"R\",\"Java\",\"Javascript\",\"Shell scripting\",\"Ruby\",\"Scala\",\"Go\",\"Rust\",\"Exploratory Data Analysis\",\"Statistics\",\"Bayesian Statistics\",\"Feature Engineering\",\"Feature Selection\",\"Modelling Process\",\"Causal Analysis & Design of Experiments\",\"Probability\",\"Linear Algebra\",\"Hyperparameters Tuning\",\"Dimensionality Reduction\",\"Regression\",\"Clustering\",\"Time Series Analysis\",\"Classification\",\"NLP\",\"Neural Networks\",\"Computer Vision\",\"Reinforcement Learning\",\"Operations Research\",\"Self-Supervised Learning\",\"Graph Machine Learning\",\"Ethics in AI & ML\",\"Information Extraction\",\"Anomaly detection\",\"Clustering theory\",\"Knowledge Graphs\",\"Optimization\",\"Tableau\",\"PowerBi\",\"Looker\",\"Rshiny\",\"Microstrategy\",\"Grafana\",\"QlikView\",\"QlikSense\",\"AWS QuickSight\",\"AWS\",\"Azure\",\"GCP\",\"Design Thinking\",\"SDLC process\",\"Testing LifeCycle\",\"Project Management\",\"Requirements Gathering\",\"Rally\",\"Agile model of development\",\"FAST API\",\"Flask\",\"Angular\",\"HTML/CSS\",\"NodeJS\",\"Go Lang\",\"Django\",\"Next JS\",\"Vue JS\",\"React JS\",\"ArgoCD\",\"Azure DevOps\",\"GitHub\",\"GitLab\",\"GoCD\",\"GCP Cloud Build\",\"Jenkins\",\"AWS (CodePipeline, CodeBuild, CodeDeploy)\",\"Informatica\",\"Talend\",\"Pentaho\",\"SSIS\",\"AirByte\",\"NiFi2\",\"Fivetran\",\"Matillion\",\"Airflow\",\"AWS Glue\",\"AWS Step Functions\",\"Azure Data Factory\",\"Google Cloud Composer\",\"Nifi\",\"Oozie\",\"Data Modelling\",\"System Architecture Design\",\"Network Architecture Design\",\"Databricks\",\"Datalake (S3, ADLS, GCS)\",\"Batch Data pipeline\",\"Streaming Data Pipeline\",\"Data Storage\",\"Azure SQL DB\",\"DB2\",\"MySQL\",\"Oracle\",\"SQL Server\",\"PostgreSQL\",\"Hive2\",\"Azure Synapse Analysis\",\"Google BigQuery\",\"AWS Redshift\",\"Snowflake\",\"MongoDB\",\"CouchBase\",\"Azure Cosmos DB\",\"AWS DynamoDB\",\"GCP Firestore/BigTable\",\"Hbase\",\"Hadoop\",\"Hive\",\"Pig\",\"Kafka\",\"PySpark\",\"Sqoop\",\"IOT\",\"Docker\",\"Terraform\",\"Kubernetes\",\"Podman\",\"Ansible\",\"Chef\",\"Azure Bicep\",\"Azure ARM\",\"Adobe Analytics\",\"Matomo\",\"Google Analytics\",\"Azure ML Studio\",\"AWS Sagemaker\",\"Dataiku\",\"DataRobot\",\"GCP Vertex AI\",\"MLFlow\",\"Kubeflow\",\"Seldon Core\",\"Fiddler\",\"BentoML\",\"BDD\",\"TDD\",\"Postman\",\"SonarQube\",\"Jmeter\",\"Cucumber\",\"TestRail\",\"Pytest/unittest\",\"Mocha/Chai\",\"Jasmine\",\"Alation\",\"Atlan\",\"Azure Purview\",\"Great Expectations\",\"Collibra\",\"ADLS Gen2\",\"AWS S3\",\"HDFS\",\"GCP Cloud Storage\",\"Redis\",\"Memcached\",\"Apache Beam\",\"Apache Flink\",\"Spark Streaming\",\"GCP Dataflow\",\"GCP Pub-Sub\",\"Azure Event Hub\",\"AWS Kinesis\",\"Azure Stream Analytics\",\"Apache Kafka\",\"UX research\",\"UX design\",\"UI design\",\"Prototyping\",\"Video creation\",\"UX writing\",\"Graphic Design\",\"Value Communication Design\",\"Figma\",\"Adobe Illustrator\",\"Adobe Photoshop\",\"Adobe Premier Pro\",\"Adobe After Effects\",\"Automobile\",\"Banking\",\"CPG\",\"Hospitality\",\"Insurance\",\"Healthcare & Pharma\",\"Retail\",\"Technology\",\"Renewable Energy\",\"Telecom\",\"Strategy & Planning\",\"Pricing & Revenue Management\",\"Growth, Marketing & Sales\",\"Logistics & Supply Chain\",\"Merchandising & Store Ops\",\"Digital\",\"Consumer Insights\",\"Deep Learning\",\"Agile: Scrum\",\"Agile: Kanban\",\"PM Tools: JIRA\",\"GCP Pub/Sub\",\"scrum\",\"Application CI/CD\",\"ETL / ELT\",\"asp_skills\",\"Discipline & Integrity\",\"Initiative & Ownership\",\"Adaptability\",\"Teamwork\",\"Innovative Thinking\",\"Curiosity & Learning Agility\",\"Problem Solving\",\"Result Orientation\",\"Quality Focus\",\"Effective Communication\",\"Work Management and effectiveness\",\"ClientCentric\",\"GenAI\",\"NucliOS\"]]\n",
    "print(skills)"
   ]
  },
  {
   "cell_type": "code",
   "execution_count": 18,
   "metadata": {},
   "outputs": [],
   "source": [
    "skills.to_csv('skills.csv',index=False)"
   ]
  },
  {
   "cell_type": "code",
   "execution_count": 19,
   "metadata": {},
   "outputs": [],
   "source": [
    "users.to_csv(\"users.csv\",index=False)"
   ]
  },
  {
   "cell_type": "code",
   "execution_count": 23,
   "metadata": {},
   "outputs": [
    {
     "name": "stderr",
     "output_type": "stream",
     "text": [
      "/tmp/ipykernel_2329/2069783330.py:1: DtypeWarning: Columns (215) have mixed types. Specify dtype option on import or set low_memory=False.\n",
      "  df = pd.read_csv('skills.csv')\n"
     ]
    }
   ],
   "source": [
    "df = pd.read_csv('skills.csv')\n",
    "df = df.fillna(0)\n",
    "replacement_dict = {\n",
    "    'Beginner': 1,\n",
    "    'Intermediate': 2,\n",
    "    'Advance': 3,\n",
    "    'Expert': 4,\n",
    "    'Master': 5\n",
    "}\n",
    "df.replace(replacement_dict)\n",
    "df = df.infer_objects(copy=False)\n",
    "# Save the modified DataFrame back to a CSV file\n",
    "df.to_csv('skills1.csv', index=False)\n"
   ]
  }
 ],
 "metadata": {
  "kernelspec": {
   "display_name": "Python 3",
   "language": "python",
   "name": "python3"
  },
  "language_info": {
   "codemirror_mode": {
    "name": "ipython",
    "version": 3
   },
   "file_extension": ".py",
   "mimetype": "text/x-python",
   "name": "python",
   "nbconvert_exporter": "python",
   "pygments_lexer": "ipython3",
   "version": "3.11.9"
  }
 },
 "nbformat": 4,
 "nbformat_minor": 2
}
